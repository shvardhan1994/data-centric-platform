{
 "cells": [
  {
   "cell_type": "code",
   "execution_count": 20,
   "id": "1e3f6218-15b9-4b55-8b35-6bc590b0991c",
   "metadata": {},
   "outputs": [],
   "source": [
    "from bentoml.client import Client\n",
    "from PIL import Image\n",
    "import time\n",
    "from glob import glob\n",
    "import numpy as np"
   ]
  },
  {
   "cell_type": "code",
   "execution_count": 36,
   "id": "ce24d8d9-4fe9-4c42-9246-df36775a5147",
   "metadata": {
    "tags": []
   },
   "outputs": [],
   "source": [
    "# Connect to server\n",
    "client = Client.from_url(\"http://134.94.88.74:7010/\")\n",
    "\n",
    "# Use with encrypted protocol in production.\n",
    "# \"https://134.94.88.74:7010/\""
   ]
  },
  {
   "cell_type": "markdown",
   "id": "44629456-d74d-427c-b9c6-232c4e6a049f",
   "metadata": {},
   "source": [
    "### Prediction service example"
   ]
  },
  {
   "cell_type": "code",
   "execution_count": 48,
   "id": "7e272b43-c5a2-4242-93b0-212e74abc285",
   "metadata": {},
   "outputs": [
    {
     "name": "stdout",
     "output_type": "stream",
     "text": [
      "[8]\n"
     ]
    }
   ],
   "source": [
    "# Predict input image\n",
    "input_img_path = \"./data/8.png\"\n",
    "with Image.open(input_img_path) as im:\n",
    "    resp = await client.async_predict(im)\n",
    "    print(resp)"
   ]
  },
  {
   "cell_type": "markdown",
   "id": "d3727eca-1695-48c6-ad59-9a891f16f6d5",
   "metadata": {},
   "source": [
    "### Retraining example"
   ]
  },
  {
   "cell_type": "code",
   "execution_count": 43,
   "id": "6731449d-5352-4f0f-9829-7631f2fa1de9",
   "metadata": {
    "tags": []
   },
   "outputs": [
    {
     "data": {
      "text/plain": [
       "array([[[[0., 0., 0., ..., 0., 0., 0.],\n",
       "         [0., 0., 0., ..., 0., 0., 0.],\n",
       "         [0., 0., 0., ..., 0., 0., 0.],\n",
       "         ...,\n",
       "         [0., 0., 0., ..., 0., 0., 0.],\n",
       "         [0., 0., 0., ..., 0., 0., 0.],\n",
       "         [0., 0., 0., ..., 0., 0., 0.]]],\n",
       "\n",
       "\n",
       "       [[[0., 0., 0., ..., 0., 0., 0.],\n",
       "         [0., 0., 0., ..., 0., 0., 0.],\n",
       "         [0., 0., 0., ..., 0., 0., 0.],\n",
       "         ...,\n",
       "         [0., 0., 0., ..., 0., 0., 0.],\n",
       "         [0., 0., 0., ..., 0., 0., 0.],\n",
       "         [0., 0., 0., ..., 0., 0., 0.]]],\n",
       "\n",
       "\n",
       "       [[[0., 0., 0., ..., 0., 0., 0.],\n",
       "         [0., 0., 0., ..., 0., 0., 0.],\n",
       "         [0., 0., 0., ..., 0., 0., 0.],\n",
       "         ...,\n",
       "         [0., 0., 0., ..., 0., 0., 0.],\n",
       "         [0., 0., 0., ..., 0., 0., 0.],\n",
       "         [0., 0., 0., ..., 0., 0., 0.]]],\n",
       "\n",
       "\n",
       "       ...,\n",
       "\n",
       "\n",
       "       [[[0., 0., 0., ..., 0., 0., 0.],\n",
       "         [0., 0., 0., ..., 0., 0., 0.],\n",
       "         [0., 0., 0., ..., 0., 0., 0.],\n",
       "         ...,\n",
       "         [0., 0., 0., ..., 0., 0., 0.],\n",
       "         [0., 0., 0., ..., 0., 0., 0.],\n",
       "         [0., 0., 0., ..., 0., 0., 0.]]],\n",
       "\n",
       "\n",
       "       [[[0., 0., 0., ..., 0., 0., 0.],\n",
       "         [0., 0., 0., ..., 0., 0., 0.],\n",
       "         [0., 0., 0., ..., 0., 0., 0.],\n",
       "         ...,\n",
       "         [0., 0., 0., ..., 0., 0., 0.],\n",
       "         [0., 0., 0., ..., 0., 0., 0.],\n",
       "         [0., 0., 0., ..., 0., 0., 0.]]],\n",
       "\n",
       "\n",
       "       [[[0., 0., 0., ..., 0., 0., 0.],\n",
       "         [0., 0., 0., ..., 0., 0., 0.],\n",
       "         [0., 0., 0., ..., 0., 0., 0.],\n",
       "         ...,\n",
       "         [0., 0., 0., ..., 0., 0., 0.],\n",
       "         [0., 0., 0., ..., 0., 0., 0.],\n",
       "         [0., 0., 0., ..., 0., 0., 0.]]]])"
      ]
     },
     "execution_count": 43,
     "metadata": {},
     "output_type": "execute_result"
    }
   ],
   "source": [
    "# Example IO, you just need to modify retrain to load input and retrain model.\n",
    "# Consider storing input using cache on the server if IO is slowing the process.\n",
    "input_imgs = glob(\"./data/*.png\")\n",
    "input_arr = np.stack([np.array(Image.open(i)) for i in input_imgs])\n",
    "resp = await client.async_retrain(input_arr)    \n",
    "resp"
   ]
  }
 ],
 "metadata": {
  "kernelspec": {
   "display_name": "Python 3 (ipykernel)",
   "language": "python",
   "name": "python3"
  },
  "language_info": {
   "codemirror_mode": {
    "name": "ipython",
    "version": 3
   },
   "file_extension": ".py",
   "mimetype": "text/x-python",
   "name": "python",
   "nbconvert_exporter": "python",
   "pygments_lexer": "ipython3",
   "version": "3.9.1"
  }
 },
 "nbformat": 4,
 "nbformat_minor": 5
}
